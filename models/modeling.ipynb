{
 "cells": [
  {
   "cell_type": "code",
   "execution_count": 27,
   "id": "05097006",
   "metadata": {},
   "outputs": [],
   "source": [
    "# import libraries\n",
    "import boto3, re, sys, math, json, os, sagemaker, urllib.request\n",
    "from sagemaker import get_execution_role\n",
    "import numpy as np\n",
    "import pandas as pd\n",
    "import matplotlib.pyplot as plt\n",
    "from IPython.display import Image\n",
    "from IPython.display import display\n",
    "from time import gmtime, strftime\n",
    "from sagemaker.predictor import csv_serializer\n",
    "from sklearn.model_selection import train_test_split\n",
    "from sklearn.preprocessing import OneHotEncoder"
   ]
  },
  {
   "cell_type": "code",
   "execution_count": 2,
   "id": "760710c3",
   "metadata": {},
   "outputs": [
    {
     "name": "stdout",
     "output_type": "stream",
     "text": [
      "Success - the MySageMakerInstance is in the us-east-1 region. You will use the 811284229777.dkr.ecr.us-east-1.amazonaws.com/xgboost:latest container for your SageMaker endpoint.\n"
     ]
    }
   ],
   "source": [
    "# Define IAM role\n",
    "role = get_execution_role()\n",
    "prefix = 'sagemaker/DEMO-xgboost-dm'\n",
    "my_region = boto3.session.Session().region_name # set the region of the instance\n",
    "\n",
    "# this line automatically looks for the XGBoost image URI and builds an XGBoost container.\n",
    "xgboost_container = sagemaker.image_uris.retrieve(\"xgboost\", my_region, \"latest\")\n",
    "\n",
    "print(\"Success - the MySageMakerInstance is in the \" + my_region + \" region. You will use the \" + xgboost_container + \" container for your SageMaker endpoint.\")"
   ]
  },
  {
   "cell_type": "code",
   "execution_count": 3,
   "id": "c7a6c484",
   "metadata": {},
   "outputs": [
    {
     "name": "stdout",
     "output_type": "stream",
     "text": [
      "S3 bucket created successfully\n"
     ]
    }
   ],
   "source": [
    "# create a s3 bucket to store model related stuff\n",
    "bucket_name = 'airplane-ticket-model'\n",
    "s3 = boto3.resource('s3')\n",
    "try:\n",
    "    if  my_region == 'us-east-1':\n",
    "      s3.create_bucket(Bucket=bucket_name)\n",
    "    else: \n",
    "      s3.create_bucket(Bucket=bucket_name, CreateBucketConfiguration={ 'LocationConstraint': my_region })\n",
    "    print('S3 bucket created successfully')\n",
    "except Exception as e:\n",
    "    print('S3 error: ',e)"
   ]
  },
  {
   "cell_type": "code",
   "execution_count": 4,
   "id": "a116160d",
   "metadata": {},
   "outputs": [],
   "source": [
    "# import dataset from s3 bucket\n",
    "bucket='planetickets'\n",
    "data_key = 'Cleaned_2018_Flights.csv'\n",
    "data_location = 's3://{}/{}'.format(bucket, data_key)\n",
    "data = pd.read_csv(data_location)"
   ]
  },
  {
   "cell_type": "code",
   "execution_count": 5,
   "id": "6fdbc80d",
   "metadata": {},
   "outputs": [],
   "source": [
    "# Data Cleaning and Splitting Piepline: \n",
    "# Remove unnecesscary variables\n",
    "data = data.drop(columns = ['Unnamed: 0', 'ItinID', 'MktID', 'MktCoupons', 'OriginWac', 'DestWac', 'ContiguousUSA', \"Miles\"])\n",
    "\n",
    "# Y: PricePerTicket; X: all other variables\n",
    "X = data.drop(columns = ['PricePerTicket'])\n",
    "Y = data[['PricePerTicket']]\n",
    "\n",
    "# Split training and testing dataset\n",
    "X_train, X_test, y_train, y_test = train_test_split(X, Y, test_size=0.33, random_state=42)"
   ]
  },
  {
   "cell_type": "code",
   "execution_count": 25,
   "id": "278e40f3",
   "metadata": {},
   "outputs": [],
   "source": [
    "# Feature Transformation Pipeline\n",
    "numerical_cols = [\"NumTicketsOrdered\"]\n",
    "categorical_cols = ['Quarter', \"Origin\", \"Dest\", \"AirlineCompany\"]"
   ]
  },
  {
   "cell_type": "code",
   "execution_count": null,
   "id": "e754b803",
   "metadata": {},
   "outputs": [],
   "source": []
  },
  {
   "cell_type": "code",
   "execution_count": 26,
   "id": "0bf76ad9",
   "metadata": {},
   "outputs": [
    {
     "data": {
      "text/plain": [
       "'\\nQuarter: categorical\\nOrigin: categorical\\nDest: categorical\\nNumTicketsOrdered: Discrete Numeric\\nAirlineCompany: Categorical\\n\\nIdeas: use PCA for dimensionality reduction\\n'"
      ]
     },
     "execution_count": 26,
     "metadata": {},
     "output_type": "execute_result"
    }
   ],
   "source": [
    "# Feature engineering Pipeline\n",
    "\"\"\"\n",
    "Quarter: categorical\n",
    "Origin: categorical\n",
    "Dest: categorical\n",
    "NumTicketsOrdered: Discrete Numeric\n",
    "AirlineCompany: Categorical\n",
    "\n",
    "Ideas: use PCA for dimensionality reduction\n",
    "\"\"\""
   ]
  },
  {
   "cell_type": "code",
   "execution_count": 17,
   "id": "8cbbfe52",
   "metadata": {},
   "outputs": [
    {
     "data": {
      "text/plain": [
       "(6388059, 540)"
      ]
     },
     "execution_count": 17,
     "metadata": {},
     "output_type": "execute_result"
    }
   ],
   "source": [
    "(6388059, 4 + 263 + 260 + 1 + 12)"
   ]
  },
  {
   "cell_type": "code",
   "execution_count": 29,
   "id": "05fb2ad9",
   "metadata": {},
   "outputs": [
    {
     "data": {
      "text/plain": [
       "OneHotEncoder()"
      ]
     },
     "execution_count": 29,
     "metadata": {},
     "output_type": "execute_result"
    }
   ],
   "source": [
    "enc = OneHotEncoder()\n",
    "enc.fit(data[['AirlineCompany']])"
   ]
  },
  {
   "cell_type": "code",
   "execution_count": null,
   "id": "9466ea84",
   "metadata": {},
   "outputs": [],
   "source": [
    "enc.transform(data[['AirlineCompany']]).toarray()"
   ]
  },
  {
   "cell_type": "code",
   "execution_count": null,
   "id": "ab5ad2ac",
   "metadata": {},
   "outputs": [],
   "source": []
  }
 ],
 "metadata": {
  "kernelspec": {
   "display_name": "conda_python3",
   "language": "python",
   "name": "conda_python3"
  },
  "language_info": {
   "codemirror_mode": {
    "name": "ipython",
    "version": 3
   },
   "file_extension": ".py",
   "mimetype": "text/x-python",
   "name": "python",
   "nbconvert_exporter": "python",
   "pygments_lexer": "ipython3",
   "version": "3.6.13"
  }
 },
 "nbformat": 4,
 "nbformat_minor": 5
}
